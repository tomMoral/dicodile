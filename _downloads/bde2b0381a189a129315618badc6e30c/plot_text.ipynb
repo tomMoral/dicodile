{
  "cells": [
    {
      "cell_type": "markdown",
      "metadata": {},
      "source": [
        "\n# DiCoDiLe on text images\n\nThis example illustrates pattern recovery on a noisy text image using\nDiCoDiLe algorithm.\n"
      ]
    },
    {
      "cell_type": "code",
      "execution_count": null,
      "metadata": {
        "collapsed": false
      },
      "outputs": [],
      "source": [
        "import matplotlib.pyplot as plt\nimport numpy as np\n\nfrom dicodile import dicodile\nfrom dicodile.data.images import fetch_letters_pami\nfrom dicodile.update_d.update_d import tukey_window\nfrom dicodile.utils.csc import reconstruct\nfrom dicodile.utils.dictionary import init_dictionary\nfrom dicodile.utils.viz import display_dictionaries"
      ]
    },
    {
      "cell_type": "markdown",
      "metadata": {},
      "source": [
        "We will first load PAMI image generated from a text of **5000**\ncharacters drawn uniformly from the **4** letters **P** **A** **M**\n**I** and 2 whitespaces and assign it to `X`.\n\nWe will also load the images of the four characters used to generate\n`X` and assign it to variable `D`.\n\n"
      ]
    },
    {
      "cell_type": "code",
      "execution_count": null,
      "metadata": {
        "collapsed": false
      },
      "outputs": [],
      "source": [
        "X_original, D = fetch_letters_pami()"
      ]
    },
    {
      "cell_type": "markdown",
      "metadata": {},
      "source": [
        "We will work on the copy `X` of the original image and we need to reshape\nimage data `X` to fit to the expected signal shape of `dicodile`:\n\n`(n_channels, *sig_support)`\n\n"
      ]
    },
    {
      "cell_type": "code",
      "execution_count": null,
      "metadata": {
        "collapsed": false
      },
      "outputs": [],
      "source": [
        "X = X_original.copy()\nX = X.reshape(1, *X.shape)\nprint(X.shape)"
      ]
    },
    {
      "cell_type": "markdown",
      "metadata": {},
      "source": [
        "Reshape `D` to fit to dictionary format:\n\n`(n_atoms, n_channels, *atom_support)`\n\n"
      ]
    },
    {
      "cell_type": "code",
      "execution_count": null,
      "metadata": {
        "collapsed": false
      },
      "outputs": [],
      "source": [
        "D = D.reshape(4, 1, *D.shape[-2:])\n\n# We pad `D` in order to have atoms with 0 on the border,\n# compatible with windowed dictionary.\nD = np.pad(D, [(0, 0), (0, 0), (4, 4), (4, 4)])\nprint(D.shape)"
      ]
    },
    {
      "cell_type": "markdown",
      "metadata": {},
      "source": [
        "Let's display an extract of the original text image `X_original` and\nall the images of characters from `D`.\n\n"
      ]
    },
    {
      "cell_type": "code",
      "execution_count": null,
      "metadata": {
        "collapsed": false
      },
      "outputs": [],
      "source": [
        "zoom_x = X_original[190:490, 250:750]\nplt.axis('off')\nplt.imshow(zoom_x, cmap='gray')\n\ndisplay_dictionaries(D)"
      ]
    },
    {
      "cell_type": "markdown",
      "metadata": {},
      "source": [
        "We add some Gaussian white noise with standard deviation `std` 3 times\nlarger than `X.std` to `X`.\n\n"
      ]
    },
    {
      "cell_type": "code",
      "execution_count": null,
      "metadata": {
        "collapsed": false
      },
      "outputs": [],
      "source": [
        "std = 3\nrng = np.random.default_rng(None)\n\nX += std * X.std() * rng.standard_normal(X.shape)"
      ]
    },
    {
      "cell_type": "markdown",
      "metadata": {},
      "source": [
        "We will create a random dictionary of **K = 10** patches from the\nnoisy image.\n\n"
      ]
    },
    {
      "cell_type": "code",
      "execution_count": null,
      "metadata": {
        "collapsed": false
      },
      "outputs": [],
      "source": [
        "# set number of patches\nn_atoms = 10\n# set individual atom (patch) size\natom_support = np.array(D.shape[-2:])\n\nD_init = init_dictionary(X, n_atoms=n_atoms, atom_support=atom_support,\n                         random_state=60)\n\n# window the dictionary, this helps make sure that the border values are 0\natom_support = D_init.shape[-2:]\ntw = tukey_window(atom_support)[None, None]\nD_init *= tw\n\nprint(D_init.shape)"
      ]
    },
    {
      "cell_type": "markdown",
      "metadata": {},
      "source": [
        "Let's display an extract of noisy `X` and random dictionary `D_init`\ngenerated from `X`.\n\n"
      ]
    },
    {
      "cell_type": "code",
      "execution_count": null,
      "metadata": {
        "collapsed": false
      },
      "outputs": [],
      "source": [
        "zoom_x = X[0][190:490, 250:750]\nplt.axis('off')\nplt.imshow(zoom_x, cmap='gray')\n\ndisplay_dictionaries(D_init)"
      ]
    },
    {
      "cell_type": "markdown",
      "metadata": {},
      "source": [
        "Set model parameters.\n\n"
      ]
    },
    {
      "cell_type": "code",
      "execution_count": null,
      "metadata": {
        "collapsed": false
      },
      "outputs": [],
      "source": [
        "# regularization parameter\nreg = .2\n# maximum number of iterations\nn_iter = 100\n# when True, makes sure that the borders of the atoms are 0\nwindow = True\n# when True, requires all activations Z to be positive\nz_positive = True\n# number of workers to be used for computations\nn_workers = 10\n# number of jobs per row\nw_world = 'auto'\n# tolerance for minimal update size\ntol = 1e-3"
      ]
    },
    {
      "cell_type": "markdown",
      "metadata": {},
      "source": [
        "Fit the dictionary with `dicodile`.\n\n"
      ]
    },
    {
      "cell_type": "code",
      "execution_count": null,
      "metadata": {
        "collapsed": false
      },
      "outputs": [],
      "source": [
        "D_hat, z_hat, pobj, times = dicodile(X, D_init, reg=reg, n_iter=n_iter,\n                                     window=window, z_positive=z_positive,\n                                     n_workers=n_workers,\n                                     dicod_kwargs={\"max_iter\": 10000},\n                                     w_world=w_world, tol=tol, verbose=6)\n\nprint(\"[DICOD] final cost : {}\".format(pobj))"
      ]
    },
    {
      "cell_type": "markdown",
      "metadata": {},
      "source": [
        "Let's compare the initially generated random patches in `D_init`\nwith the atoms in `D_hat` recovered with `dicodile`.\n\n"
      ]
    },
    {
      "cell_type": "code",
      "execution_count": null,
      "metadata": {
        "collapsed": false
      },
      "outputs": [],
      "source": [
        "display_dictionaries(D_init, D_hat)"
      ]
    },
    {
      "cell_type": "markdown",
      "metadata": {},
      "source": [
        "Now we will reconstruct the image from `z_hat` and `D_hat`.\n\n"
      ]
    },
    {
      "cell_type": "code",
      "execution_count": null,
      "metadata": {
        "collapsed": false
      },
      "outputs": [],
      "source": [
        "X_hat = reconstruct(z_hat, D_hat)\nX_hat = np.clip(X_hat, 0, 1)"
      ]
    },
    {
      "cell_type": "markdown",
      "metadata": {},
      "source": [
        "Let's plot the reconstructed image `X_hat` together with the\noriginal image `X_original` and the noisy image `X` that was input\nto `dicodile`.\n\n"
      ]
    },
    {
      "cell_type": "code",
      "execution_count": null,
      "metadata": {
        "collapsed": false
      },
      "outputs": [],
      "source": [
        "f, (ax1, ax2, ax3) = plt.subplots(3, 1, figsize=[6.4, 8])\n\nax1.imshow(X_original[190:490, 250:750], cmap='gray')\nax1.set_title('Original image')\nax1.axis('off')\n\nax2.imshow(X[0][190:490, 250:750], cmap='gray')\nax2.set_title('Noisy image')\nax2.axis('off')\n\nax3.imshow(X_hat[0][190:490, 250:750], cmap='gray')\nax3.set_title('Recovered image')\nax3.axis('off')\nplt.tight_layout()"
      ]
    }
  ],
  "metadata": {
    "kernelspec": {
      "display_name": "Python 3",
      "language": "python",
      "name": "python3"
    },
    "language_info": {
      "codemirror_mode": {
        "name": "ipython",
        "version": 3
      },
      "file_extension": ".py",
      "mimetype": "text/x-python",
      "name": "python",
      "nbconvert_exporter": "python",
      "pygments_lexer": "ipython3",
      "version": "3.9.1"
    }
  },
  "nbformat": 4,
  "nbformat_minor": 0
}