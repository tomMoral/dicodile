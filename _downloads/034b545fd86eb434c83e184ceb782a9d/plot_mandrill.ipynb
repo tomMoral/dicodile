{
  "cells": [
    {
      "cell_type": "code",
      "execution_count": null,
      "metadata": {
        "collapsed": false
      },
      "outputs": [],
      "source": [
        "%matplotlib inline"
      ]
    },
    {
      "cell_type": "markdown",
      "metadata": {},
      "source": [
        "# DiCoDiLe on the Mandrill image\n\nThis example illlustrates reconstruction of `Mandrill image\n<http://sipi.usc.edu/database/download.php?vol=misc&img=4.2.03>`_\nusing DiCoDiLe algorithm with default soft_lock value \"border\" and 9\nworkers.\n"
      ]
    },
    {
      "cell_type": "code",
      "execution_count": null,
      "metadata": {
        "collapsed": false
      },
      "outputs": [],
      "source": [
        "import numpy as np\nimport matplotlib.pyplot as plt\n\nfrom dicodile.data.images import fetch_mandrill\n\nfrom dicodile.utils.dictionary import init_dictionary\nfrom dicodile.utils.viz import display_dictionaries\nfrom dicodile.utils.csc import reconstruct\n\nfrom dicodile import dicodile"
      ]
    },
    {
      "cell_type": "markdown",
      "metadata": {},
      "source": [
        "We will first download the Mandrill image.\n\n"
      ]
    },
    {
      "cell_type": "code",
      "execution_count": null,
      "metadata": {
        "collapsed": false
      },
      "outputs": [],
      "source": [
        "X = fetch_mandrill()\n\nplt.axis('off')\nplt.imshow(X.swapaxes(0, 2))"
      ]
    },
    {
      "cell_type": "markdown",
      "metadata": {},
      "source": [
        "We will create a random dictionary of **K = 25** patches of size **8x8**\nfrom the original Mandrill image to be used for sparse coding.\n\n"
      ]
    },
    {
      "cell_type": "code",
      "execution_count": null,
      "metadata": {
        "collapsed": false
      },
      "outputs": [],
      "source": [
        "# set dictionary size\nn_atoms = 25\n\n# set individual atom (patch) size\natom_support = (8, 8)\n\nD_init = init_dictionary(X, n_atoms, atom_support, random_state=60)"
      ]
    },
    {
      "cell_type": "markdown",
      "metadata": {},
      "source": [
        "We are going to run `dicodile` with **9** workers on **3x3** grids.\n\n"
      ]
    },
    {
      "cell_type": "code",
      "execution_count": null,
      "metadata": {
        "collapsed": false
      },
      "outputs": [],
      "source": [
        "# number of iterations for dicodile\nn_iter = 3\n\n# number of iterations for csc (dicodile_z)\nmax_iter = 10000\n\n# number of splits along each dimension\nw_world = 3\n\n# number of workers\nn_workers = w_world * w_world"
      ]
    },
    {
      "cell_type": "markdown",
      "metadata": {},
      "source": [
        "Run `dicodile`.\n\n"
      ]
    },
    {
      "cell_type": "code",
      "execution_count": null,
      "metadata": {
        "collapsed": false
      },
      "outputs": [],
      "source": [
        "D_hat, z_hat, pobj, times = dicodile(X, D_init, n_iter=n_iter,\n                                     n_workers=n_workers,\n                                     dicod_kwargs={\"max_iter\": max_iter},\n                                     verbose=6)\n\n\nprint(\"[DICOD] final cost : {}\".format(pobj))"
      ]
    },
    {
      "cell_type": "markdown",
      "metadata": {},
      "source": [
        "Plot and compare the initial dictionary `D_init` with the\ndictionary `D_hat` improved by `dicodile`.\n\n"
      ]
    },
    {
      "cell_type": "code",
      "execution_count": null,
      "metadata": {
        "collapsed": false
      },
      "outputs": [],
      "source": [
        "# normalize dictionaries\nnormalized_D_init = D_init / D_init.max()\nnormalized_D_hat = D_hat / D_hat.max()\n\ndisplay_dictionaries(normalized_D_init, normalized_D_hat)"
      ]
    },
    {
      "cell_type": "markdown",
      "metadata": {},
      "source": [
        "Reconstruct the image from `z_hat` and `D_hat`.\n\n"
      ]
    },
    {
      "cell_type": "code",
      "execution_count": null,
      "metadata": {
        "collapsed": false
      },
      "outputs": [],
      "source": [
        "X_hat = reconstruct(z_hat, D_hat)\nX_hat = np.clip(X_hat, 0, 1)"
      ]
    },
    {
      "cell_type": "markdown",
      "metadata": {},
      "source": [
        "Plot the reconstructed image.\n\n"
      ]
    },
    {
      "cell_type": "code",
      "execution_count": null,
      "metadata": {
        "collapsed": false
      },
      "outputs": [],
      "source": [
        "fig = plt.figure(\"recovery\")\n\nax = plt.subplot()\nax.imshow(X_hat.swapaxes(0, 2))\nax.axis('off')\nplt.tight_layout()"
      ]
    }
  ],
  "metadata": {
    "kernelspec": {
      "display_name": "Python 3",
      "language": "python",
      "name": "python3"
    },
    "language_info": {
      "codemirror_mode": {
        "name": "ipython",
        "version": 3
      },
      "file_extension": ".py",
      "mimetype": "text/x-python",
      "name": "python",
      "nbconvert_exporter": "python",
      "pygments_lexer": "ipython3",
      "version": "3.9.1"
    }
  },
  "nbformat": 4,
  "nbformat_minor": 0
}