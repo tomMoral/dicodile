{
  "cells": [
    {
      "cell_type": "code",
      "execution_count": null,
      "metadata": {
        "collapsed": false
      },
      "outputs": [],
      "source": [
        "%matplotlib inline"
      ]
    },
    {
      "cell_type": "markdown",
      "metadata": {},
      "source": [
        "\n# Gait (steps) example\n\nIn this example, we use DiCoDiLe on an open `dataset`_ of gait (steps)\nIMU time-series to discover patterns in the data.\nWe will then use those to attempt to detect steps and compare our findings\nwith the ground truth.\n\n"
      ]
    },
    {
      "cell_type": "code",
      "execution_count": null,
      "metadata": {
        "collapsed": false
      },
      "outputs": [],
      "source": [
        "import matplotlib.pyplot as plt\nimport numpy as np\n\nfrom dicodile.data.gait import get_gait_data\nfrom dicodile.utils.dictionary import init_dictionary\nfrom dicodile.utils.viz import display_dictionaries\nfrom dicodile.utils.csc import reconstruct\nfrom dicodile import dicodile"
      ]
    },
    {
      "cell_type": "markdown",
      "metadata": {},
      "source": [
        "## Retrieve trial data\n\n"
      ]
    },
    {
      "cell_type": "code",
      "execution_count": null,
      "metadata": {
        "collapsed": false
      },
      "outputs": [],
      "source": [
        "trial = get_gait_data(subject=6, trial=1)"
      ]
    },
    {
      "cell_type": "markdown",
      "metadata": {},
      "source": [
        "Let's have a look at the data for one trial.\n\n"
      ]
    },
    {
      "cell_type": "code",
      "execution_count": null,
      "metadata": {
        "collapsed": false
      },
      "outputs": [],
      "source": [
        "trial.keys()"
      ]
    },
    {
      "cell_type": "markdown",
      "metadata": {},
      "source": [
        "We get a dictionary whose keys are metadata items, plus a 'data' key that\ncontains a numpy array with the trial time series for each sensor axis,\nat 100 Hz resolution.\n\n"
      ]
    },
    {
      "cell_type": "code",
      "execution_count": null,
      "metadata": {
        "collapsed": false
      },
      "outputs": [],
      "source": [
        "# right foot acceleration (vertical)\nplt.plot(trial['data']['RAV'])"
      ]
    },
    {
      "cell_type": "markdown",
      "metadata": {},
      "source": [
        "Let's look at a small portion of the series for both feet,\noverlaid on the same plot\n\n"
      ]
    },
    {
      "cell_type": "code",
      "execution_count": null,
      "metadata": {
        "collapsed": false
      },
      "outputs": [],
      "source": [
        "fig, ax = plt.subplots()\nax.plot(trial['data']['LAV'][5000:5800],\n        label='left foot vertical acceleration')\nax.plot(trial['data']['RAV'][5000:5800],\n        label='right foot vertical acceleration')\nax.set_xlabel('time (x10ms)')\nax.set_ylabel('acceleration ($m.s^{-2}$)')\nax.legend()"
      ]
    },
    {
      "cell_type": "markdown",
      "metadata": {},
      "source": [
        "We can see the alternating left and right foot movements.\n\nIn the rest of this example, we will only use the right foot\nvertical acceleration.\n\n"
      ]
    },
    {
      "cell_type": "markdown",
      "metadata": {},
      "source": [
        "## Convolutional Dictionary Learning\n\nNow, let's use DiCoDiLe to learn patterns from the data and reconstruct\nthe signal from a sparse representation.\n\nFirst, we initialize a dictionary from parts of the signal:\n\n"
      ]
    },
    {
      "cell_type": "code",
      "execution_count": null,
      "metadata": {
        "collapsed": false
      },
      "outputs": [],
      "source": [
        "X = trial['data']['RAV'].to_numpy()\nX = X.reshape(1, *X.shape)\n\nprint(X.shape)\n\nD_init = init_dictionary(X, n_atoms=8, atom_support=(200,), random_state=60)"
      ]
    },
    {
      "cell_type": "markdown",
      "metadata": {},
      "source": [
        "Note the use of ``reshape`` to shape the signal as per ``dicodile``\nrequirements: the shape of the signal should be\n``(n_channels, *sig_support)``.\nHere, we have a single-channel time series so it is ``(1, n_times)``.\n\n"
      ]
    },
    {
      "cell_type": "markdown",
      "metadata": {},
      "source": [
        "Then, we run DiCoDiLe!\n\n"
      ]
    },
    {
      "cell_type": "code",
      "execution_count": null,
      "metadata": {
        "collapsed": false
      },
      "outputs": [],
      "source": [
        "D_hat, z_hat, pobj, times = dicodile(\n    X, D_init, n_iter=3, n_workers=4, window=True,\n    dicod_kwargs={\"max_iter\": 10000}, verbose=6\n)\n\n\nprint(\"[DiCoDiLe] final cost : {}\".format(pobj))"
      ]
    },
    {
      "cell_type": "markdown",
      "metadata": {},
      "source": [
        "We can order the dictionary patches by decreasing sum of the activations'\nabsolute values in the activations ``z_hat``, which, intuitively, gives\na measure of how they contribute to the reconstruction.\n\n"
      ]
    },
    {
      "cell_type": "code",
      "execution_count": null,
      "metadata": {
        "collapsed": false
      },
      "outputs": [],
      "source": [
        "sum_abs_val = np.sum(np.abs(z_hat), axis=-1)\n\n# we negate sum_abs_val to sort in decreasing order\npatch_indices = np.argsort(-sum_abs_val)\n\nfig_reordered = display_dictionaries(D_init[patch_indices],\n                                     D_hat[patch_indices])"
      ]
    },
    {
      "cell_type": "markdown",
      "metadata": {},
      "source": [
        "### Signal reconstruction\n\nNow, let's reconstruct the original signal\n\n"
      ]
    },
    {
      "cell_type": "code",
      "execution_count": null,
      "metadata": {
        "collapsed": false
      },
      "outputs": [],
      "source": [
        "X_hat = reconstruct(z_hat, D_hat)"
      ]
    },
    {
      "cell_type": "markdown",
      "metadata": {},
      "source": [
        "Plot a small part of the original and reconstructed signals\n\n"
      ]
    },
    {
      "cell_type": "code",
      "execution_count": null,
      "metadata": {
        "collapsed": false
      },
      "outputs": [],
      "source": [
        "fig_hat, ax_hat = plt.subplots()\nax_hat.plot(X[0][5000:5800],\n            label='right foot vertical acceleration (ORIGINAL)')\nax_hat.plot(X_hat[0][5000:5800],\n            label='right foot vertical acceleration (RECONSTRUCTED)')\nax_hat.set_xlabel('time (x10ms)')\nax_hat.set_ylabel('acceleration ($m.s^{-2}$)')\nax_hat.legend()"
      ]
    },
    {
      "cell_type": "markdown",
      "metadata": {},
      "source": [
        "Check that our representation is indeed sparse:\n\n"
      ]
    },
    {
      "cell_type": "code",
      "execution_count": null,
      "metadata": {
        "collapsed": false
      },
      "outputs": [],
      "source": [
        "np.count_nonzero(z_hat)"
      ]
    },
    {
      "cell_type": "markdown",
      "metadata": {},
      "source": [
        "Besides our visual check, a measure of how closely we're reconstructing the\noriginal signal is the (normalized) cross-correlation. Let's compute this:\n\n"
      ]
    },
    {
      "cell_type": "code",
      "execution_count": null,
      "metadata": {
        "collapsed": false
      },
      "outputs": [],
      "source": [
        "np.correlate(X[0], X_hat[0]) / (\n    np.sqrt(np.correlate(X[0], X[0]) * np.correlate(X_hat[0], X_hat[0])))"
      ]
    },
    {
      "cell_type": "markdown",
      "metadata": {},
      "source": [
        "## Multichannel signals\n\nDiCoDiLe works just as well with multi-channel signals. The gait dataset\ncontains 16 signals (8 for each foot), in the rest of this tutorial,\nwe'll use three of those.\n\n"
      ]
    },
    {
      "cell_type": "code",
      "execution_count": null,
      "metadata": {
        "collapsed": false
      },
      "outputs": [],
      "source": [
        "# Left foot Vertical acceleration, Y rotation and X acceleration\nchannels = ['LAV', 'LRY', 'LAX']"
      ]
    },
    {
      "cell_type": "markdown",
      "metadata": {},
      "source": [
        "Let's look at a small portion of multi-channel data\n\n"
      ]
    },
    {
      "cell_type": "code",
      "execution_count": null,
      "metadata": {
        "collapsed": false
      },
      "outputs": [],
      "source": [
        "colors = plt.rcParams[\"axes.prop_cycle\"]()\nmc_fig, mc_ax = plt.subplots(len(channels), sharex=True)\n\nfor ax, chan in zip(mc_ax, channels):\n    ax.plot(trial['data'][chan][5000:5800],\n            label=chan, color=next(colors)[\"color\"])\nmc_fig.legend(loc=\"upper center\")"
      ]
    },
    {
      "cell_type": "markdown",
      "metadata": {},
      "source": [
        "Let's put the data in shape for DiCoDiLe: (n_channels, n_times)\n\n"
      ]
    },
    {
      "cell_type": "code",
      "execution_count": null,
      "metadata": {
        "collapsed": false
      },
      "outputs": [],
      "source": [
        "X_mc_subset = trial['data'][channels].to_numpy().T\nprint(X_mc_subset.shape)"
      ]
    },
    {
      "cell_type": "markdown",
      "metadata": {},
      "source": [
        "Initialize the dictionary (note that the call is identical\nto the single-channel version)\n\n"
      ]
    },
    {
      "cell_type": "code",
      "execution_count": null,
      "metadata": {
        "collapsed": false
      },
      "outputs": [],
      "source": [
        "D_init_mc = init_dictionary(X_mc_subset,\n                            n_atoms=8,\n                            atom_support=(200,),\n                            random_state=60)"
      ]
    },
    {
      "cell_type": "markdown",
      "metadata": {},
      "source": [
        "And run DiCoDiLe (note that the call is identical to the single-channel\nversion here as well)\n\n"
      ]
    },
    {
      "cell_type": "code",
      "execution_count": null,
      "metadata": {
        "collapsed": false
      },
      "outputs": [],
      "source": [
        "D_hat_mc, z_hat_mc, pobj_mc, times_mc = dicodile(X_mc_subset,\n                                                 D_init_mc,\n                                                 n_iter=3,\n                                                 n_workers=4,\n                                                 dicod_kwargs={\"max_iter\": 10000},  # noqa: E501\n                                                 verbose=6,\n                                                 window=True)\n\n\nprint(\"[DiCoDiLe] final cost : {}\".format(pobj_mc))"
      ]
    },
    {
      "cell_type": "markdown",
      "metadata": {},
      "source": [
        "### Signal reconstruction (multichannel)\n\nNow, let's reconstruct the original signal\n\n"
      ]
    },
    {
      "cell_type": "code",
      "execution_count": null,
      "metadata": {
        "collapsed": false
      },
      "outputs": [],
      "source": [
        "X_hat_mc = reconstruct(z_hat_mc, D_hat_mc)\nX_hat_mc.shape"
      ]
    },
    {
      "cell_type": "markdown",
      "metadata": {},
      "source": [
        "Let's visually compare a small part of the original and reconstructed signals\nalong with the activations.\n\n"
      ]
    },
    {
      "cell_type": "code",
      "execution_count": null,
      "metadata": {
        "collapsed": false
      },
      "outputs": [],
      "source": [
        "viz_start_idx = 4000\nviz_end_idx = 5800\nviz_chan = 2\n\nmax_abs = np.max(np.abs(z_hat_mc), axis=-1)\nmax_abs = max_abs.reshape(z_hat_mc.shape[0], 1)\nz_hat_normalized = z_hat_mc / max_abs\nfig_hat_mc, ax_hat_mc = plt.subplots(2, figsize=(12, 8))\nax_hat_mc[0].plot(X_mc_subset[viz_chan][viz_start_idx:viz_end_idx],\n                  label='ORIGINAL')\nax_hat_mc[0].plot(X_hat_mc[viz_chan][viz_start_idx:viz_end_idx],\n                  label='RECONSTRUCTED')\nfor idx in range(z_hat_normalized.shape[0]):\n    ax_hat_mc[1].stem(z_hat_normalized[idx][viz_start_idx:viz_end_idx],\n                      linefmt=f\"C{idx}-\",\n                      markerfmt=f\"C{idx}o\")\nax_hat_mc[0].set_xlabel('time (x10ms)')\nax_hat_mc[0].legend()"
      ]
    }
  ],
  "metadata": {
    "kernelspec": {
      "display_name": "Python 3",
      "language": "python",
      "name": "python3"
    },
    "language_info": {
      "codemirror_mode": {
        "name": "ipython",
        "version": 3
      },
      "file_extension": ".py",
      "mimetype": "text/x-python",
      "name": "python",
      "nbconvert_exporter": "python",
      "pygments_lexer": "ipython3",
      "version": "3.9.1"
    }
  },
  "nbformat": 4,
  "nbformat_minor": 0
}